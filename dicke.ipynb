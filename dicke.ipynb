{
 "cells": [
  {
   "cell_type": "code",
   "execution_count": null,
   "metadata": {},
   "outputs": [],
   "source": [
    "import numpy as np\n",
    "from qiskit import *\n",
    "from qiskit import Aer\n",
    "from qiskit.visualization import plot_distribution\n",
    "from qiskit.circuit.library import RYGate"
   ]
  },
  {
   "attachments": {},
   "cell_type": "markdown",
   "metadata": {},
   "source": [
    "# The Algorithms:"
   ]
  },
  {
   "attachments": {},
   "cell_type": "markdown",
   "metadata": {},
   "source": [
    "### Rotation Gate (Definition 8) \n",
    "\n",
    "**input:** $num$ - numerator, $den$ - denominator\n",
    "\n",
    "**output:** rotation gate  $\\boxed{\\sqrt{num/den}}$"
   ]
  },
  {
   "cell_type": "code",
   "execution_count": null,
   "metadata": {},
   "outputs": [],
   "source": [
    "def ry_gate(num, den):\n",
    "    return RYGate(2*np.arccos(np.sqrt(num/den)), label=str(num)+ '/'+str(den))"
   ]
  },
  {
   "attachments": {},
   "cell_type": "markdown",
   "metadata": {},
   "source": [
    "### Split & Cyclic Shift (SCS) - unitaries (implemented as in Theorem 10)\n",
    "\n",
    "**input:** $n$ - vector length, $k$ - Hamming weight, circ - quantum circuit, qr - quantum register, anc - ancilla qubits, qr_offset - clarifies on which registers of qr the swap-algorithm should be applied, anc_offset - clarifies which ancilla qubits the swap-algorithm should use, $q$ - number of qubits per vector component\n",
    "        \n",
    "**output:** $SCS$-unitary for the given parameters"
   ]
  },
  {
   "cell_type": "code",
   "execution_count": null,
   "metadata": {},
   "outputs": [],
   "source": [
    "def SCS(n,k,circ,qr, anc, qr_offset, anc_offset, q):\n",
    "    # Prepare the needed ancilla qubits\n",
    "    prepare_anc(n, k, circ, anc, anc_offset)\n",
    "    for i in range(k-1):\n",
    "        for j in range(q):\n",
    "            # Following line corresponds to line 4 in algorithm Swap in Figure 3\n",
    "            circ.cswap(anc[anc_offset + i],qr[qr_offset + j], qr[qr_offset + j +2*i + 2], ctrl_state='0')\n",
    "    return circ"
   ]
  },
  {
   "attachments": {},
   "cell_type": "markdown",
   "metadata": {},
   "source": [
    "### Algorithm PrepareAncilla in Figure 3\n",
    "\n",
    "**input:** $n$ - vector length, $k$ - Hamming weight, circ - quantum circuit, anc - ancilla qubits, anc_offset - clarifies which ancilla qubits the swap-algorithm should use\n",
    "\n",
    "**output:** needed ancilla qubits for $SCS_{q\\cdot n,k}$"
   ]
  },
  {
   "cell_type": "code",
   "execution_count": null,
   "metadata": {},
   "outputs": [],
   "source": [
    "def prepare_anc(n, k, circ, anc, anc_offset):\n",
    "    for i in range(k-1):\n",
    "        if (i!=0):\n",
    "            # Following line corresponds to  line 4 in algorithm PrepareAncilla in Figure 3\n",
    "            circ.append(ry_gate(n-1-i,n-i).control(1, ctrl_state='0'), [anc[anc_offset + i -1], anc[anc_offset + i]])\n",
    "        else:\n",
    "            # case i=0: Following line corresponds to  line 2 in algorithm PrepareAncilla in Figure 3\n",
    "            circ.append(ry_gate(n-1-i,n-i), [anc[anc_offset + i]])\n",
    "        if (i != k-2):\n",
    "            # Following line corresponds to  line 5 in algorithm PrepareAncilla in Figure 3\n",
    "            circ.cx(anc[anc_offset + i], anc[anc_offset + i+1])\n",
    "\n",
    "\n",
    "\n",
    "\n"
   ]
  },
  {
   "attachments": {},
   "cell_type": "markdown",
   "metadata": {},
   "source": [
    "### Computes number of needed ancilla qubits of $U_{q\\cdot n,k}$ (see proof of Theorem 12)\n",
    "\n",
    "**input:** $n$ - vector length, $k$ - Hamming weight\n",
    "\n",
    "**output:** number of needed ancilla qubits of $U_{q\\cdot n,k}$"
   ]
  },
  {
   "cell_type": "code",
   "execution_count": null,
   "metadata": {},
   "outputs": [],
   "source": [
    "def number_anc(n,k):\n",
    "    result = (n-k)*(k)\n",
    "    for i in range(k):\n",
    "        result += i\n",
    "    return result"
   ]
  },
  {
   "attachments": {},
   "cell_type": "markdown",
   "metadata": {},
   "source": [
    "# An Example:\n",
    "\n",
    "In the following we show an example, how to prepare a generalized 4-dimensional Dicke state with $q=2$. Feel free to change the init state by adjusting the parameter $\\ell 1$, $\\ell 2$ and $\\ell 3$. "
   ]
  },
  {
   "cell_type": "code",
   "execution_count": null,
   "metadata": {},
   "outputs": [],
   "source": [
    "n = 4\n",
    "k = 4\n",
    "l1 = 2\n",
    "l2 = 0\n",
    "l3 = 1\n",
    "\n",
    "anc = QuantumRegister(number_anc(n,k), 'anc')\n",
    "qr = QuantumRegister(2*n, 'qr')\n",
    "cr = ClassicalRegister(2*n, 'cl') # Needed for the measurements\n",
    "circ = QuantumCircuit(anc,qr, cr)\n",
    "\n",
    "# Preparation of the initial state according to the given parameter l1, l2, l3\n",
    "if (k< l1 + l2 +l3):\n",
    "    print(\"You've chosen the wrong parameter! The Hamming weight of the vector is bigger than k!\")\n",
    "else:\n",
    "    init = ''\n",
    "    for i in range(n - l1 -l2 -l3): # l0\n",
    "        init += '00'\n",
    "    for i in range(l1):\n",
    "        init += '01'\n",
    "    for i in range(l2):\n",
    "        init += '10'\n",
    "    for i in range(l3):\n",
    "        init += '11'\n",
    "    circ.initialize(init, qr[:] )\n",
    "    # Set anc_offset\n",
    "    anc_offset=0\n",
    "    for i in range(n-1):\n",
    "        circ = SCS(n-i, np.minimum(k+1, n-i),circ, qr, anc, 2*i, anc_offset, 2)\n",
    "        # Update anc_offset, and use \"fresh\" ancilla qubits in the next iteration\n",
    "        anc_offset += np.minimum(k, n-1-i)\n",
    "    # Measure the final state\n",
    "    for i in range(2*n):\n",
    "        circ.measure(qr[i],cr[i])\n"
   ]
  },
  {
   "attachments": {},
   "cell_type": "markdown",
   "metadata": {},
   "source": [
    "#### The chosen parameter lead us to the following circuit:"
   ]
  },
  {
   "cell_type": "code",
   "execution_count": null,
   "metadata": {},
   "outputs": [],
   "source": [
    "circ.draw('mpl', reverse_bits=True, scale=0.5)"
   ]
  },
  {
   "attachments": {},
   "cell_type": "markdown",
   "metadata": {},
   "source": [
    "#### A measurement of the final state \"validates\" the correctness of our algorithm. Note that the result of the experiment is not \"perfect\" since we can not run the circuit infinitely often."
   ]
  },
  {
   "cell_type": "code",
   "execution_count": null,
   "metadata": {},
   "outputs": [],
   "source": [
    "# shots - number of experiment repetitions:\n",
    "shots = 25000\n",
    "\n",
    "job = execute(circ, backend=Aer.get_backend('qasm_simulator'), shots=shots)\n",
    "result = job.result()\n",
    "count = result.get_counts(circ)\n",
    "#print(\"for initialization\", init, \"we get as result\", count)\n",
    "plot_distribution(count)"
   ]
  }
 ],
 "metadata": {
  "kernelspec": {
   "display_name": "Python 3",
   "language": "python",
   "name": "python3"
  },
  "language_info": {
   "codemirror_mode": {
    "name": "ipython",
    "version": 3
   },
   "file_extension": ".py",
   "mimetype": "text/x-python",
   "name": "python",
   "nbconvert_exporter": "python",
   "pygments_lexer": "ipython3",
   "version": "3.10.6"
  },
  "orig_nbformat": 4,
  "vscode": {
   "interpreter": {
    "hash": "31f2aee4e71d21fbe5cf8b01ff0e069b9275f58929596ceb00d14d90e3e16cd6"
   }
  }
 },
 "nbformat": 4,
 "nbformat_minor": 2
}
